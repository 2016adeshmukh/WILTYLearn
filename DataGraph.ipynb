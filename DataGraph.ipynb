{
 "cells": [
  {
   "cell_type": "code",
   "execution_count": 2,
   "metadata": {
    "collapsed": true
   },
   "outputs": [],
   "source": [
    "import openpyxl\n",
    "from openpyxl.utils import get_column_letter"
   ]
  },
  {
   "cell_type": "code",
   "execution_count": 3,
   "metadata": {},
   "outputs": [
    {
     "name": "stderr",
     "output_type": "stream",
     "text": [
      "/Library/Frameworks/Python.framework/Versions/3.5/lib/python3.5/site-packages/openpyxl/reader/worksheet.py:310: UserWarning: Unknown extension is not supported and will be removed\n",
      "  warn(msg)\n"
     ]
    }
   ],
   "source": [
    "wb = openpyxl.load_workbook('WiltyData.xlsx')\n",
    "sheet = wb.get_sheet_by_name('Sheet1')\n",
    "maxRow = sheet.max_row"
   ]
  },
  {
   "cell_type": "code",
   "execution_count": 4,
   "metadata": {},
   "outputs": [
    {
     "name": "stdout",
     "output_type": "stream",
     "text": [
      "Season\n"
     ]
    }
   ],
   "source": [
    "column = 1 #how to access things in the spreadsheet\n",
    "row = 1\n",
    "\n",
    "print(sheet[get_column_letter(column)+str(row)].value)"
   ]
  },
  {
   "cell_type": "code",
   "execution_count": 5,
   "metadata": {},
   "outputs": [
    {
     "name": "stdout",
     "output_type": "stream",
     "text": [
      "18\n",
      "5\n"
     ]
    }
   ],
   "source": [
    "print(sheet.max_row) #getting max rows and columns\n",
    "print(sheet.max_column)"
   ]
  },
  {
   "cell_type": "code",
   "execution_count": 6,
   "metadata": {},
   "outputs": [
    {
     "name": "stdout",
     "output_type": "stream",
     "text": [
      "[[0, 0, 0, 0, 0, 0], [0, 0, 0, 0, 0, 0]]\n"
     ]
    }
   ],
   "source": [
    "#how to make a 2D array\n",
    "#row 1 will be [season# episode# davidCorr davidTot leeCorr leeTot]\n",
    "#later can get more data such as # T vs # F and who gets more\n",
    "#T and who gets more F\n",
    "data = []\n",
    "for i in range(2): #this will go to the number of rows u want\n",
    "    data.append([])\n",
    "    for j in range(6):\n",
    "        data[i].append(0)\n",
    "        \n",
    "print (data)"
   ]
  },
  {
   "cell_type": "code",
   "execution_count": 8,
   "metadata": {},
   "outputs": [
    {
     "name": "stdout",
     "output_type": "stream",
     "text": [
      "12\n",
      "2\n"
     ]
    }
   ],
   "source": [
    "#fill in 2D array\n",
    "epCount = 1\n",
    "tempCount = 1\n",
    "for k in range(sheet.max_row - 1): #k will iterate through rows\n",
    "    xVal = sheet[get_column_letter(2)+str(k+2)].value + sheet[get_column_letter(1)+str(k+2)].value - 1 #episode + season - 1\n",
    "    if sheet[get_column_letter(2)+str(k+2)].value != epCount:\n",
    "        epCount = epCount + 1\n",
    "        print (tempCount)\n",
    "        tempCount = 0\n",
    "    while(sheet[get_column_letter(2)+str(k+2)].value == epCount):\n",
    "        tempCount = tempCount + 1\n",
    "        break"
   ]
  },
  {
   "cell_type": "code",
   "execution_count": null,
   "metadata": {
    "collapsed": true
   },
   "outputs": [],
   "source": []
  }
 ],
 "metadata": {
  "kernelspec": {
   "display_name": "Python 3",
   "language": "python",
   "name": "python3"
  },
  "language_info": {
   "codemirror_mode": {
    "name": "ipython",
    "version": 3
   },
   "file_extension": ".py",
   "mimetype": "text/x-python",
   "name": "python",
   "nbconvert_exporter": "python",
   "pygments_lexer": "ipython3",
   "version": "3.5.2"
  }
 },
 "nbformat": 4,
 "nbformat_minor": 2
}
